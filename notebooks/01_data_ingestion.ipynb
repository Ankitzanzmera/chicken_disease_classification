{
 "cells": [
  {
   "cell_type": "code",
   "execution_count": 1,
   "metadata": {},
   "outputs": [],
   "source": [
    "import os"
   ]
  },
  {
   "cell_type": "code",
   "execution_count": 2,
   "metadata": {},
   "outputs": [
    {
     "data": {
      "text/plain": [
       "'f:\\\\ml projects\\\\chicken_disease_classification\\\\notebooks'"
      ]
     },
     "execution_count": 2,
     "metadata": {},
     "output_type": "execute_result"
    }
   ],
   "source": [
    "%pwd"
   ]
  },
  {
   "cell_type": "markdown",
   "metadata": {},
   "source": [
    "#### Currently we are in Notebook folder so we have go back in chicken_disease_classification"
   ]
  },
  {
   "cell_type": "code",
   "execution_count": 3,
   "metadata": {},
   "outputs": [
    {
     "data": {
      "text/plain": [
       "'f:\\\\ml projects\\\\chicken_disease_classification'"
      ]
     },
     "execution_count": 3,
     "metadata": {},
     "output_type": "execute_result"
    }
   ],
   "source": [
    "os.chdir('../')\n",
    "%pwd"
   ]
  },
  {
   "cell_type": "markdown",
   "metadata": {},
   "source": [
    "#### 👇 👇 👇 👇 👇 👇 called Entity paste it in entity/config_entity.py"
   ]
  },
  {
   "cell_type": "code",
   "execution_count": 4,
   "metadata": {},
   "outputs": [],
   "source": [
    "from dataclasses import dataclass\n",
    "from pathlib import Path\n",
    "\n",
    "\n",
    "@dataclass(frozen=True)\n",
    "class DataIngestionConfig:\n",
    "    root_dir:Path\n",
    "    source_URL: str\n",
    "    local_data_file: Path\n",
    "    unzip_dir: Path \n"
   ]
  },
  {
   "cell_type": "markdown",
   "metadata": {},
   "source": [
    "#### 👇 👇 👇 👇 👇 👇 paste it on src/config/configuration.py"
   ]
  },
  {
   "cell_type": "code",
   "execution_count": 5,
   "metadata": {},
   "outputs": [],
   "source": [
    "from chicken_disease_classifier.constants import *\n",
    "from chicken_disease_classifier.utils.common import read_yaml,create_directories"
   ]
  },
  {
   "cell_type": "code",
   "execution_count": 6,
   "metadata": {},
   "outputs": [],
   "source": [
    "class ConfigurationManager:\n",
    "    def __init__(self,config_filepath = CONFIG_FILE_PATH,params_filepath = PARAMS_FILE_PATH):\n",
    "\n",
    "        self.config = read_yaml(config_filepath)\n",
    "        self.params = read_yaml(params_filepath)\n",
    "\n",
    "        create_directories([self.config.artifacts_root]) \n",
    "\n",
    "    def get_data_ingestion_config(self) -> DataIngestionConfig:\n",
    "\n",
    "        config = self.config.data_ingestion\n",
    "\n",
    "        data_ingestion_config = DataIngestionConfig(\n",
    "                                    root_dir= config.root_dir,\n",
    "                                    source_URL= config.source_URL,\n",
    "                                    local_data_file= config.local_data_file,\n",
    "                                    unzip_dir= config.unzip_dir)\n",
    "        return data_ingestion_config\n",
    "        "
   ]
  },
  {
   "cell_type": "markdown",
   "metadata": {},
   "source": [
    "#### 👇 👇 👇 👇 👇 👇 paste it on src/components/data_ingestion.py"
   ]
  },
  {
   "cell_type": "code",
   "execution_count": 7,
   "metadata": {},
   "outputs": [],
   "source": [
    "import os\n",
    "from urllib import request\n",
    "import zipfile\n",
    "from chicken_disease_classifier import logger\n",
    "from chicken_disease_classifier.utils.common import get_size ## if Gives error then close the file and again run it or push the common.py on github"
   ]
  },
  {
   "cell_type": "code",
   "execution_count": 19,
   "metadata": {},
   "outputs": [],
   "source": [
    "\n",
    "class DataIngestion:\n",
    "    def __init__(self,config: DataIngestionConfig):\n",
    "        \n",
    "        self.config = config\n",
    "        os.makedirs(self.config.root_dir,exist_ok=True)\n",
    "    \n",
    "    def download_file(self):\n",
    "        if not os.path.exists(self.config.local_data_file):\n",
    "            filename, headers = request.urlretrieve(url= self.config.source_URL, filename= self.config.local_data_file)\n",
    "            logger.info(f\"{filename} download! With Following info:\\n {headers}\")\n",
    "        else:\n",
    "            logger.info(f\"File already Exists :{get_size(Path(self.config.local_data_file))}\")\n",
    "            \n",
    "\n",
    "    def extract_zip_file(self):\n",
    "\n",
    "        unzip_path = self.config.unzip_dir\n",
    "        with zipfile.ZipFile(self.config.local_data_file,'r') as zip_ref:\n",
    "            zip_ref.extractall(unzip_path)"
   ]
  },
  {
   "cell_type": "markdown",
   "metadata": {},
   "source": [
    "#### 👇 👇 👇 👇 👇 👇 paste it in pipeline/stage_01_data_ingestion.py"
   ]
  },
  {
   "cell_type": "code",
   "execution_count": 22,
   "metadata": {},
   "outputs": [
    {
     "name": "stdout",
     "output_type": "stream",
     "text": [
      "[ 2023-11-21 15:56:26,928 ] 26 - common - INFO - <_io.TextIOWrapper name='config\\\\config.yaml' mode='r' encoding='UTF-8'> Loaded Successfully\n",
      "[ 2023-11-21 15:56:26,931 ] 26 - common - INFO - <_io.TextIOWrapper name='params.yaml' mode='r' encoding='UTF-8'> Loaded Successfully\n",
      "[ 2023-11-21 15:56:26,933 ] 48 - common - INFO - Created Directory at : artifacts\n",
      "[ 2023-11-21 15:56:29,526 ] 10 - 4054381443 - INFO - artifacts/data_ingestion/data.zip download! With Following info:\n",
      " Connection: close\n",
      "Content-Length: 11616915\n",
      "Cache-Control: max-age=300\n",
      "Content-Security-Policy: default-src 'none'; style-src 'unsafe-inline'; sandbox\n",
      "Content-Type: application/zip\n",
      "ETag: \"57e2d9ae182eda1180abff67b40c8fd40c0b4723c2c465c813da5c28d5f36fbc\"\n",
      "Strict-Transport-Security: max-age=31536000\n",
      "X-Content-Type-Options: nosniff\n",
      "X-Frame-Options: deny\n",
      "X-XSS-Protection: 1; mode=block\n",
      "X-GitHub-Request-Id: B452:8E4C:353CAB:40FC8B:655C813C\n",
      "Accept-Ranges: bytes\n",
      "Date: Tue, 21 Nov 2023 10:26:27 GMT\n",
      "Via: 1.1 varnish\n",
      "X-Served-By: cache-maa10229-MAA\n",
      "X-Cache: HIT\n",
      "X-Cache-Hits: 0\n",
      "X-Timer: S1700562387.428415,VS0,VE1\n",
      "Vary: Authorization,Accept-Encoding,Origin\n",
      "Access-Control-Allow-Origin: *\n",
      "Cross-Origin-Resource-Policy: cross-origin\n",
      "X-Fastly-Request-ID: d2c27b8c7960ac7c55fdaef38f6ba6ee77709e8f\n",
      "Expires: Tue, 21 Nov 2023 10:31:27 GMT\n",
      "Source-Age: 85\n",
      "\n",
      "\n"
     ]
    }
   ],
   "source": [
    "try:\n",
    "    config = ConfigurationManager()\n",
    "    data_ingestion_config = config.get_data_ingestion_config()\n",
    "    data_ingestion = DataIngestion(config= data_ingestion_config)\n",
    "    data_ingestion.download_file()\n",
    "    data_ingestion.extract_zip_file()\n",
    "except Exception as e:\n",
    "    raise e"
   ]
  },
  {
   "cell_type": "code",
   "execution_count": null,
   "metadata": {},
   "outputs": [],
   "source": []
  }
 ],
 "metadata": {
  "kernelspec": {
   "display_name": "Python 3",
   "language": "python",
   "name": "python3"
  },
  "language_info": {
   "codemirror_mode": {
    "name": "ipython",
    "version": 3
   },
   "file_extension": ".py",
   "mimetype": "text/x-python",
   "name": "python",
   "nbconvert_exporter": "python",
   "pygments_lexer": "ipython3",
   "version": "3.8.18"
  }
 },
 "nbformat": 4,
 "nbformat_minor": 2
}
