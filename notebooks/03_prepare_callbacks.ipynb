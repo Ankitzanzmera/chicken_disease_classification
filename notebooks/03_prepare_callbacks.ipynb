{
 "cells": [
  {
   "cell_type": "code",
   "execution_count": 1,
   "metadata": {},
   "outputs": [
    {
     "data": {
      "text/plain": [
       "'f:\\\\ml projects\\\\chicken_disease_classification\\\\notebooks'"
      ]
     },
     "execution_count": 1,
     "metadata": {},
     "output_type": "execute_result"
    }
   ],
   "source": [
    "import os\n",
    "%pwd"
   ]
  },
  {
   "cell_type": "code",
   "execution_count": 2,
   "metadata": {},
   "outputs": [
    {
     "data": {
      "text/plain": [
       "'f:\\\\ml projects\\\\chicken_disease_classification'"
      ]
     },
     "execution_count": 2,
     "metadata": {},
     "output_type": "execute_result"
    }
   ],
   "source": [
    "os.chdir('../')\n",
    "%pwd"
   ]
  },
  {
   "cell_type": "code",
   "execution_count": 3,
   "metadata": {},
   "outputs": [],
   "source": [
    "from dataclasses import dataclass\n",
    "from pathlib import Path\n",
    "\n",
    "@dataclass(frozen=True)\n",
    "class PrepareCallbacksConfig:\n",
    "    root_dir:Path\n",
    "    tensorboard_root_log_dir:Path\n",
    "    checkpoint_model_filepath:Path"
   ]
  },
  {
   "cell_type": "code",
   "execution_count": 4,
   "metadata": {},
   "outputs": [],
   "source": [
    "from chicken_disease_classifier.utils.common import create_directories,read_yaml\n",
    "from chicken_disease_classifier.constants import *\n",
    "\n",
    "class ConfigurationManager:\n",
    "    def __init__(self,config_filepath = CONFIG_FILE_PATH,params_filepath = PARAMS_FILE_PATH) -> None:\n",
    "        self.config = read_yaml(config_filepath)\n",
    "        self.params = read_yaml(params_filepath)\n",
    "        \n",
    "        create_directories([self.config.artifacts_root])\n",
    "\n",
    "    def get_prepare_callbacks_config(self) -> PrepareCallbacksConfig:\n",
    "        config = self.config.prepare_callbacks\n",
    "\n",
    "        create_directories([Path(config.root_dir),Path(config.tensorboard_root_log_dir),Path(os.path.dirname(config.checkpoint_model_filepath))])\n",
    "\n",
    "        preprare_callback_config = PrepareCallbacksConfig(\n",
    "            root_dir= config.root_dir,\n",
    "            tensorboard_root_log_dir= config.tensorboard_root_log_dir,\n",
    "            checkpoint_model_filepath= config.checkpoint_model_filepath\n",
    "        )\n",
    "\n",
    "        return  preprare_callback_config\n"
   ]
  },
  {
   "cell_type": "code",
   "execution_count": 5,
   "metadata": {},
   "outputs": [],
   "source": [
    "import os\n",
    "from urllib import request\n",
    "from zipfile import ZipFile\n",
    "import tensorflow as tf\n",
    "import time"
   ]
  },
  {
   "cell_type": "code",
   "execution_count": 6,
   "metadata": {},
   "outputs": [],
   "source": [
    "class PrepareCallback:\n",
    "    def __init__(self,config:PrepareCallbacksConfig) -> None:\n",
    "        self.config = config\n",
    "\n",
    "    @property\n",
    "    def _create_tensorboard(self):\n",
    "        timestamp = time.strftime('%Y-%m-%d-%H-%M-%S')\n",
    "        tb_running_log_dir = os.path.join(self.config.tensorboard_root_log_dir,f\"tb_logs_at_{timestamp}\")\n",
    "\n",
    "        return tf.keras.callbacks.TensorBoard(log_dir= tb_running_log_dir)\n",
    "    \n",
    "    @property\n",
    "    def _create_checkpoint_model(self):\n",
    "        return tf.keras.callbacks.ModelCheckpoint(filepath=self.config.checkpoint_model_filepath,save_best_only=True)\n",
    "    \n",
    "    def create_ckpt_callbacks(self):\n",
    "        return [self._create_tensorboard,self._create_checkpoint_model]"
   ]
  },
  {
   "cell_type": "code",
   "execution_count": 7,
   "metadata": {},
   "outputs": [
    {
     "name": "stdout",
     "output_type": "stream",
     "text": [
      "[ 2023-11-22 18:26:02,625 ] 26 - common - INFO - <_io.TextIOWrapper name='config\\\\config.yaml' mode='r' encoding='UTF-8'> Loaded Successfully\n",
      "[ 2023-11-22 18:26:02,635 ] 26 - common - INFO - <_io.TextIOWrapper name='params.yaml' mode='r' encoding='UTF-8'> Loaded Successfully\n",
      "[ 2023-11-22 18:26:02,648 ] 48 - common - INFO - Created Directory at : artifacts\n",
      "[ 2023-11-22 18:26:02,651 ] 48 - common - INFO - Created Directory at : artifacts\\prepare_callbacks\n",
      "[ 2023-11-22 18:26:02,655 ] 48 - common - INFO - Created Directory at : artifacts\\prepare_callbacks\\tensorboard_log_dir\n",
      "[ 2023-11-22 18:26:02,658 ] 48 - common - INFO - Created Directory at : artifacts\\prepare_callbacks\\checkpoint_dir\n"
     ]
    }
   ],
   "source": [
    "try:\n",
    "    config = ConfigurationManager()\n",
    "    prepare_callback_config = config.get_prepare_callbacks_config()\n",
    "    prepare_callback = PrepareCallback(prepare_callback_config)\n",
    "    callbac_list = prepare_callback.create_ckpt_callbacks()\n",
    "except Exception as e:\n",
    "    raise e"
   ]
  },
  {
   "cell_type": "code",
   "execution_count": null,
   "metadata": {},
   "outputs": [],
   "source": []
  }
 ],
 "metadata": {
  "kernelspec": {
   "display_name": "Python 3",
   "language": "python",
   "name": "python3"
  },
  "language_info": {
   "codemirror_mode": {
    "name": "ipython",
    "version": 3
   },
   "file_extension": ".py",
   "mimetype": "text/x-python",
   "name": "python",
   "nbconvert_exporter": "python",
   "pygments_lexer": "ipython3",
   "version": "3.8.18"
  }
 },
 "nbformat": 4,
 "nbformat_minor": 2
}
